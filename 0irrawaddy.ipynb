{
 "cells": [
  {
   "cell_type": "code",
   "execution_count": 20,
   "metadata": {},
   "outputs": [],
   "source": [
    "from tqdm import tqdm\n",
    "from datetime import date\n",
    "import bs4, requests, json"
   ]
  },
  {
   "cell_type": "code",
   "execution_count": 2,
   "metadata": {},
   "outputs": [
    {
     "name": "stdout",
     "output_type": "stream",
     "text": [
      "There are 7 links.\n"
     ]
    }
   ],
   "source": [
    "irr = r'https://burma.irrawaddy.com/category/news'\n",
    "# get original page\n",
    "soup = bs4.BeautifulSoup(requests.get(irr).content, 'lxml')\n",
    "# get trending links\n",
    "trending = soup.select('.menu-item.trending-tag')\n",
    "trendlinks = [t.a['href'] for t in trending]\n",
    "print('There are {} links.'.format(len(trendlinks)))"
   ]
  },
  {
   "cell_type": "code",
   "execution_count": 12,
   "metadata": {},
   "outputs": [
    {
     "name": "stderr",
     "output_type": "stream",
     "text": [
      "100%|██████████| 7/7 [00:12<00:00,  1.81s/it]\n"
     ]
    }
   ],
   "source": [
    "art_url_list = []\n",
    "article_list = []\n",
    "for link in tqdm(trendlinks):\n",
    "    current_page = bs4.BeautifulSoup(requests.get(link).content, 'lxml')\n",
    "    articles = current_page.select('.article-header')\n",
    "    art_url_list.extend([article_header.a['href'] for article_header in articles])"
   ]
  },
  {
   "cell_type": "code",
   "execution_count": 13,
   "metadata": {},
   "outputs": [
    {
     "name": "stdout",
     "output_type": "stream",
     "text": [
      "68 https://burma.irrawaddy.com/lifestyle/health/2020/01/16/213095.html\n"
     ]
    }
   ],
   "source": [
    "print(len(art_url_list), art_url_list[-1])"
   ]
  },
  {
   "cell_type": "code",
   "execution_count": 14,
   "metadata": {},
   "outputs": [
    {
     "name": "stdout",
     "output_type": "stream",
     "text": [
      "68 60\n"
     ]
    }
   ],
   "source": [
    "# Take Unique\n",
    "art_url_list_unq = list(set(art_url_list))\n",
    "print(len(art_url_list), len(art_url_list_unq))"
   ]
  },
  {
   "cell_type": "code",
   "execution_count": 24,
   "metadata": {},
   "outputs": [
    {
     "name": "stderr",
     "output_type": "stream",
     "text": [
      "100%|██████████| 50/50 [01:37<00:00,  1.96s/it]\n"
     ]
    }
   ],
   "source": [
    "N = 50 # we are only taking 50\n",
    "\n",
    "article_list = []\n",
    "for art_url in tqdm(art_url_list_unq[:N]):\n",
    "    article = bs4.BeautifulSoup(requests.get(art_url).content, 'lxml')\n",
    "    art_title = article.select('.article-title')[0].h1.text\n",
    "    art_body = article.select('.article-entry')\n",
    "    article_list.append({\n",
    "        'url': art_url,\n",
    "        'title': art_title,\n",
    "        'body': '\\n'.join(para.text for para in art_body[0].find_all('p'))\n",
    "    })"
   ]
  },
  {
   "cell_type": "code",
   "execution_count": 25,
   "metadata": {},
   "outputs": [],
   "source": [
    "with open('data/irr_{}.json'.format(date.today()), 'w', encoding='utf-8') as f:\n",
    "    json.dump(article_list, f, ensure_ascii=False, indent=4)"
   ]
  },
  {
   "cell_type": "code",
   "execution_count": null,
   "metadata": {},
   "outputs": [],
   "source": []
  }
 ],
 "metadata": {
  "kernelspec": {
   "display_name": "Python 3",
   "language": "python",
   "name": "python3"
  },
  "language_info": {
   "codemirror_mode": {
    "name": "ipython",
    "version": 3
   },
   "file_extension": ".py",
   "mimetype": "text/x-python",
   "name": "python",
   "nbconvert_exporter": "python",
   "pygments_lexer": "ipython3",
   "version": "3.7.4"
  }
 },
 "nbformat": 4,
 "nbformat_minor": 4
}
