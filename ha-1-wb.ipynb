{
 "cells": [
  {
   "cell_type": "code",
   "execution_count": 1,
   "metadata": {},
   "outputs": [],
   "source": [
    "from sylseg import syllable_break\n",
    "import json\n",
    "from tqdm import tqdm\n",
    "import pandas as pd"
   ]
  },
  {
   "cell_type": "code",
   "execution_count": 2,
   "metadata": {},
   "outputs": [
    {
     "name": "stdout",
     "output_type": "stream",
     "text": [
      "26171 32885 275\n"
     ]
    }
   ],
   "source": [
    "with open('aux/common-words.txt') as f:\n",
    "    common_words = [l.strip() for l in f]\n",
    "with open('aux/dict-words.txt') as f:\n",
    "    dict_words = [l.strip() for l in f]\n",
    "with open('aux/stop-words.txt') as f:\n",
    "    stop_words = [l.strip() for l in f]\n",
    "print(len(common_words), len(dict_words), len(stop_words))"
   ]
  },
  {
   "cell_type": "code",
   "execution_count": 12,
   "metadata": {},
   "outputs": [],
   "source": [
    "# Transpiled from https://github.com/eimg/myanmar-text-breaker/blob/master/word-breaker.js\n",
    "_input = 'နေကောင်း လား'\n",
    "\n",
    "# This code is also in `wordseg.py`\n",
    "# This rule-based word segmentation is functional though it has many weaknesses.\n",
    "# The algorithm uses maximum matching, where the longest word is\n",
    "# matched first from the dictionary and the length is lowered 1by1\n",
    "# until finally length is 0 (not found in dictionary),\n",
    "# when we declare the syllable to be its own word.\n",
    "def wb(_input):\n",
    "    _input = syllable_break(str(_input).replace(' ', ''))\n",
    "\n",
    "    result = []\n",
    "    offset = 0\n",
    "    LIMIT = 7\n",
    "\n",
    "    while offset < len(_input):\n",
    "        chunk_end = offset + LIMIT\n",
    "        chunk_found = False\n",
    "\n",
    "        for i in range(chunk_end, offset, -1):\n",
    "            chunk = ''.join(_input[offset:i])\n",
    "\n",
    "            if chunk in dict_words or chunk in common_words or chunk in stop_words:\n",
    "                # Found the word in data\n",
    "                chunk_found = True\n",
    "                result.append(chunk)\n",
    "\n",
    "                # Resetting offset to resume\n",
    "                offset = i\n",
    "                break\n",
    "\n",
    "\n",
    "        # Didn't found the word of any\n",
    "        # long-short combination in the chunk\n",
    "        if not chunk_found:\n",
    "            # Now, the current syllable is a word\n",
    "            result.append(_input[offset])\n",
    "            offset += 1\n",
    "    return result"
   ]
  },
  {
   "cell_type": "code",
   "execution_count": 5,
   "metadata": {},
   "outputs": [
    {
     "name": "stdout",
     "output_type": "stream",
     "text": [
      "['နေကောင်း', 'လား']\n"
     ]
    }
   ],
   "source": [
    "print(wb(_input))"
   ]
  },
  {
   "cell_type": "markdown",
   "metadata": {},
   "source": [
    "## Fetch News Data, Word Segment and Save for Later Use\n",
    "- This takes about 30 minutes, so we persist the transformed data."
   ]
  },
  {
   "cell_type": "code",
   "execution_count": 6,
   "metadata": {},
   "outputs": [],
   "source": [
    "irr = pd.read_csv('data/clean/irr.csv', sep='\\t')\n",
    "ele = pd.read_csv('data/clean/ele.csv', sep='\\t')\n",
    "miz = pd.read_csv('data/clean/miz.csv', sep='\\t')\n",
    "voi = pd.read_csv('data/clean/voi.csv', sep='\\t')\n",
    "dvb = pd.read_csv('data/clean/dvb.csv', sep='\\t')"
   ]
  },
  {
   "cell_type": "code",
   "execution_count": 7,
   "metadata": {},
   "outputs": [
    {
     "name": "stderr",
     "output_type": "stream",
     "text": [
      "100%|██████████| 50/50 [00:03<00:00, 13.09it/s]\n",
      "100%|██████████| 50/50 [08:03<00:00,  9.67s/it]\n"
     ]
    }
   ],
   "source": [
    "irr['wb_title'] = [' '.join(wb(t)) for t in tqdm(irr.title)]\n",
    "irr['wb_body'] = [' '.join(wb(t)) for t in tqdm(irr.body)]"
   ]
  },
  {
   "cell_type": "code",
   "execution_count": 8,
   "metadata": {},
   "outputs": [],
   "source": [
    "irr.to_csv('data/clean_wb/irr.csv', sep='\\t', index=False)"
   ]
  },
  {
   "cell_type": "code",
   "execution_count": 9,
   "metadata": {},
   "outputs": [
    {
     "name": "stderr",
     "output_type": "stream",
     "text": [
      "100%|██████████| 50/50 [00:08<00:00,  6.19it/s]\n",
      "100%|██████████| 50/50 [03:34<00:00,  4.29s/it]\n"
     ]
    }
   ],
   "source": [
    "ele['wb_title'] = [' '.join(wb(t)) for t in tqdm(ele.title)]\n",
    "ele['wb_body'] = [' '.join(wb(t)) for t in tqdm(ele.body)]\n",
    "ele.to_csv('data/clean_wb/ele.csv', sep='\\t', index=False)"
   ]
  },
  {
   "cell_type": "code",
   "execution_count": 10,
   "metadata": {},
   "outputs": [
    {
     "name": "stderr",
     "output_type": "stream",
     "text": [
      "100%|██████████| 50/50 [00:04<00:00, 11.57it/s]\n",
      "100%|██████████| 50/50 [03:09<00:00,  3.78s/it]\n"
     ]
    }
   ],
   "source": [
    "miz['wb_title'] = [' '.join(wb(t)) for t in tqdm(miz.title)]\n",
    "miz['wb_body'] = [' '.join(wb(t)) for t in tqdm(miz.body)]\n",
    "miz.to_csv('data/clean_wb/miz.csv', sep='\\t', index=False)"
   ]
  },
  {
   "cell_type": "code",
   "execution_count": 13,
   "metadata": {
    "collapsed": true,
    "jupyter": {
     "outputs_hidden": true
    }
   },
   "outputs": [
    {
     "name": "stderr",
     "output_type": "stream",
     "text": [
      "\n",
      "  0%|          | 0/50 [00:00<?, ?it/s]\u001b[A\n",
      "  2%|▏         | 1/50 [00:00<00:07,  6.48it/s]\u001b[A\n",
      "  4%|▍         | 2/50 [00:00<00:07,  6.22it/s]\u001b[A\n",
      "  8%|▊         | 4/50 [00:00<00:06,  7.31it/s]\u001b[A\n",
      " 10%|█         | 5/50 [00:00<00:06,  7.10it/s]\u001b[A\n",
      " 14%|█▍        | 7/50 [00:00<00:04,  8.72it/s]\u001b[A\n",
      " 16%|█▌        | 8/50 [00:00<00:05,  7.80it/s]\u001b[A\n",
      " 22%|██▏       | 11/50 [00:01<00:04,  9.66it/s]\u001b[A\n",
      " 26%|██▌       | 13/50 [00:01<00:03, 10.91it/s]\u001b[A\n",
      " 30%|███       | 15/50 [00:01<00:03, 10.57it/s]\u001b[A\n",
      " 34%|███▍      | 17/50 [00:01<00:03, 10.55it/s]\u001b[A\n",
      " 38%|███▊      | 19/50 [00:01<00:02, 11.30it/s]\u001b[A\n",
      " 42%|████▏     | 21/50 [00:01<00:02, 12.28it/s]\u001b[A\n",
      " 46%|████▌     | 23/50 [00:02<00:02, 11.79it/s]\u001b[A\n",
      " 50%|█████     | 25/50 [00:02<00:02, 11.84it/s]\u001b[A\n",
      " 54%|█████▍    | 27/50 [00:02<00:01, 11.70it/s]\u001b[A\n",
      " 58%|█████▊    | 29/50 [00:02<00:01, 12.33it/s]\u001b[A\n",
      " 62%|██████▏   | 31/50 [00:02<00:01, 10.07it/s]\u001b[A\n",
      " 68%|██████▊   | 34/50 [00:02<00:01, 12.26it/s]\u001b[A\n",
      " 72%|███████▏  | 36/50 [00:03<00:01, 12.18it/s]\u001b[A\n",
      " 76%|███████▌  | 38/50 [00:03<00:01, 11.87it/s]\u001b[A\n",
      " 84%|████████▍ | 42/50 [00:03<00:00, 13.85it/s]\u001b[A\n",
      " 88%|████████▊ | 44/50 [00:03<00:00, 12.40it/s]\u001b[A\n",
      " 92%|█████████▏| 46/50 [00:03<00:00, 12.72it/s]\u001b[A\n",
      " 96%|█████████▌| 48/50 [00:03<00:00, 13.77it/s]\u001b[A\n",
      "100%|██████████| 50/50 [00:04<00:00, 12.43it/s]\u001b[A\n",
      "\n",
      "  0%|          | 0/50 [00:00<?, ?it/s]\u001b[A\n",
      "  2%|▏         | 1/50 [00:00<00:34,  1.43it/s]\u001b[A\n",
      "  4%|▍         | 2/50 [00:03<01:07,  1.41s/it]\u001b[A\n",
      "  6%|▌         | 3/50 [00:13<03:06,  3.97s/it]\u001b[A\n",
      "  8%|▊         | 4/50 [00:15<02:32,  3.30s/it]\u001b[A\n",
      " 10%|█         | 5/50 [00:18<02:23,  3.19s/it]\u001b[A\n",
      " 12%|█▏        | 6/50 [00:21<02:16,  3.10s/it]\u001b[A\n",
      " 14%|█▍        | 7/50 [00:26<02:46,  3.88s/it]\u001b[A\n",
      " 16%|█▌        | 8/50 [00:29<02:30,  3.59s/it]\u001b[A\n",
      " 20%|██        | 10/50 [00:33<02:05,  3.13s/it]\u001b[A\n",
      " 22%|██▏       | 11/50 [00:36<01:53,  2.92s/it]\u001b[A\n",
      " 24%|██▍       | 12/50 [00:38<01:36,  2.54s/it]\u001b[A\n",
      " 26%|██▌       | 13/50 [00:38<01:08,  1.84s/it]\u001b[A\n",
      " 28%|██▊       | 14/50 [00:47<02:22,  3.95s/it]\u001b[A\n",
      " 30%|███       | 15/50 [00:49<02:00,  3.44s/it]\u001b[A\n",
      " 32%|███▏      | 16/50 [01:05<04:02,  7.12s/it]\u001b[A\n",
      " 34%|███▍      | 17/50 [01:05<02:52,  5.23s/it]\u001b[A\n",
      " 36%|███▌      | 18/50 [01:07<02:07,  3.99s/it]\u001b[A\n",
      " 38%|███▊      | 19/50 [01:09<01:53,  3.65s/it]\u001b[A\n",
      " 40%|████      | 20/50 [01:30<04:19,  8.66s/it]\u001b[A\n",
      " 42%|████▏     | 21/50 [01:33<03:21,  6.95s/it]\u001b[A\n",
      " 44%|████▍     | 22/50 [01:35<02:34,  5.52s/it]\u001b[A\n",
      " 46%|████▌     | 23/50 [01:38<02:11,  4.88s/it]\u001b[A\n",
      " 48%|████▊     | 24/50 [01:40<01:43,  3.97s/it]\u001b[A\n",
      " 50%|█████     | 25/50 [01:41<01:18,  3.13s/it]\u001b[A\n",
      " 52%|█████▏    | 26/50 [01:56<02:37,  6.55s/it]\u001b[A\n",
      " 54%|█████▍    | 27/50 [01:59<02:05,  5.47s/it]\u001b[A\n",
      " 56%|█████▌    | 28/50 [02:10<02:41,  7.34s/it]\u001b[A\n",
      " 58%|█████▊    | 29/50 [02:15<02:15,  6.43s/it]\u001b[A\n",
      " 60%|██████    | 30/50 [02:17<01:45,  5.28s/it]\u001b[A\n",
      " 62%|██████▏   | 31/50 [02:19<01:19,  4.19s/it]\u001b[A\n",
      " 64%|██████▍   | 32/50 [02:24<01:19,  4.41s/it]\u001b[A\n",
      " 66%|██████▌   | 33/50 [02:51<03:11, 11.27s/it]\u001b[A\n",
      " 68%|██████▊   | 34/50 [03:04<03:09, 11.83s/it]\u001b[A\n",
      " 70%|███████   | 35/50 [03:16<02:56, 11.77s/it]\u001b[A\n",
      " 72%|███████▏  | 36/50 [03:22<02:22, 10.19s/it]\u001b[A\n",
      " 74%|███████▍  | 37/50 [03:24<01:40,  7.71s/it]\u001b[A\n",
      " 76%|███████▌  | 38/50 [03:27<01:14,  6.17s/it]\u001b[A\n",
      " 78%|███████▊  | 39/50 [03:33<01:08,  6.18s/it]\u001b[A\n",
      " 80%|████████  | 40/50 [03:38<00:56,  5.66s/it]\u001b[A\n",
      " 82%|████████▏ | 41/50 [03:42<00:47,  5.22s/it]\u001b[A\n",
      " 86%|████████▌ | 43/50 [03:42<00:26,  3.72s/it]\u001b[A\n",
      " 88%|████████▊ | 44/50 [03:42<00:15,  2.66s/it]\u001b[A\n",
      " 90%|█████████ | 45/50 [03:45<00:12,  2.51s/it]\u001b[A\n",
      " 92%|█████████▏| 46/50 [03:58<00:22,  5.72s/it]\u001b[A\n",
      " 94%|█████████▍| 47/50 [04:03<00:16,  5.61s/it]\u001b[A\n",
      " 96%|█████████▌| 48/50 [04:09<00:11,  5.55s/it]\u001b[A\n",
      " 98%|█████████▊| 49/50 [04:09<00:04,  4.01s/it]\u001b[A\n",
      "100%|██████████| 50/50 [04:16<00:00,  5.13s/it]\u001b[A\n"
     ]
    }
   ],
   "source": [
    "voi['wb_title'] = [' '.join(wb(t)) for t in tqdm(voi.title)]\n",
    "voi['wb_body'] = [' '.join(wb(t)) for t in tqdm(voi.body)]\n",
    "voi.to_csv('data/clean_wb/voi.csv', sep='\\t', index=False)"
   ]
  },
  {
   "cell_type": "code",
   "execution_count": 14,
   "metadata": {
    "collapsed": true,
    "jupyter": {
     "outputs_hidden": true
    }
   },
   "outputs": [
    {
     "name": "stderr",
     "output_type": "stream",
     "text": [
      "\n",
      "  0%|          | 0/50 [00:00<?, ?it/s]\u001b[A\n",
      "  4%|▍         | 2/50 [00:00<00:03, 15.88it/s]\u001b[A\n",
      "  8%|▊         | 4/50 [00:00<00:02, 15.83it/s]\u001b[A\n",
      " 12%|█▏        | 6/50 [00:00<00:02, 16.03it/s]\u001b[A\n",
      " 16%|█▌        | 8/50 [00:00<00:02, 15.49it/s]\u001b[A\n",
      " 22%|██▏       | 11/50 [00:00<00:02, 16.84it/s]\u001b[A\n",
      " 26%|██▌       | 13/50 [00:00<00:02, 15.54it/s]\u001b[A\n",
      " 30%|███       | 15/50 [00:00<00:02, 16.05it/s]\u001b[A\n",
      " 34%|███▍      | 17/50 [00:01<00:01, 16.69it/s]\u001b[A\n",
      " 38%|███▊      | 19/50 [00:01<00:01, 17.33it/s]\u001b[A\n",
      " 42%|████▏     | 21/50 [00:01<00:01, 16.71it/s]\u001b[A\n",
      " 46%|████▌     | 23/50 [00:01<00:01, 15.88it/s]\u001b[A\n",
      " 50%|█████     | 25/50 [00:01<00:01, 16.53it/s]\u001b[A\n",
      " 56%|█████▌    | 28/50 [00:01<00:01, 16.68it/s]\u001b[A\n",
      " 60%|██████    | 30/50 [00:01<00:01, 16.66it/s]\u001b[A\n",
      " 64%|██████▍   | 32/50 [00:02<00:01, 13.57it/s]\u001b[A\n",
      " 68%|██████▊   | 34/50 [00:02<00:01, 13.44it/s]\u001b[A\n",
      " 72%|███████▏  | 36/50 [00:02<00:01, 12.35it/s]\u001b[A\n",
      " 76%|███████▌  | 38/50 [00:02<00:00, 12.14it/s]\u001b[A\n",
      " 80%|████████  | 40/50 [00:02<00:00, 12.85it/s]\u001b[A\n",
      " 84%|████████▍ | 42/50 [00:02<00:00, 13.94it/s]\u001b[A\n",
      " 88%|████████▊ | 44/50 [00:02<00:00, 13.11it/s]\u001b[A\n",
      " 92%|█████████▏| 46/50 [00:03<00:00, 12.75it/s]\u001b[A\n",
      " 96%|█████████▌| 48/50 [00:03<00:00, 11.75it/s]\u001b[A\n",
      "100%|██████████| 50/50 [00:03<00:00, 14.35it/s]\u001b[A\n",
      "\n",
      "  0%|          | 0/50 [00:00<?, ?it/s]\u001b[A\n",
      "  2%|▏         | 1/50 [00:01<00:53,  1.10s/it]\u001b[A\n",
      "  4%|▍         | 2/50 [00:02<00:55,  1.15s/it]\u001b[A\n",
      "  6%|▌         | 3/50 [00:02<00:40,  1.16it/s]\u001b[A\n",
      "  8%|▊         | 4/50 [00:04<00:49,  1.08s/it]\u001b[A\n",
      " 10%|█         | 5/50 [00:07<01:23,  1.86s/it]\u001b[A\n",
      " 12%|█▏        | 6/50 [00:09<01:21,  1.85s/it]\u001b[A\n",
      " 14%|█▍        | 7/50 [00:10<01:12,  1.68s/it]\u001b[A\n",
      " 16%|█▌        | 8/50 [00:11<01:01,  1.46s/it]\u001b[A\n",
      " 18%|█▊        | 9/50 [00:12<00:51,  1.25s/it]\u001b[A\n",
      " 20%|██        | 10/50 [00:14<00:52,  1.31s/it]\u001b[A\n",
      " 22%|██▏       | 11/50 [00:21<01:59,  3.05s/it]\u001b[A\n",
      " 24%|██▍       | 12/50 [00:22<01:38,  2.60s/it]\u001b[A\n",
      " 26%|██▌       | 13/50 [00:24<01:22,  2.23s/it]\u001b[A\n",
      " 28%|██▊       | 14/50 [00:24<01:01,  1.72s/it]\u001b[A\n",
      " 30%|███       | 15/50 [00:26<00:58,  1.67s/it]\u001b[A\n",
      " 32%|███▏      | 16/50 [00:30<01:24,  2.49s/it]\u001b[A\n",
      " 34%|███▍      | 17/50 [00:31<01:09,  2.10s/it]\u001b[A\n",
      " 36%|███▌      | 18/50 [00:36<01:31,  2.85s/it]\u001b[A\n",
      " 38%|███▊      | 19/50 [00:37<01:14,  2.40s/it]\u001b[A\n",
      " 40%|████      | 20/50 [00:45<02:02,  4.08s/it]\u001b[A\n",
      " 42%|████▏     | 21/50 [00:46<01:32,  3.18s/it]\u001b[A\n",
      " 44%|████▍     | 22/50 [00:48<01:20,  2.88s/it]\u001b[A\n",
      " 46%|████▌     | 23/50 [00:50<01:04,  2.39s/it]\u001b[A\n",
      " 48%|████▊     | 24/50 [00:51<00:56,  2.17s/it]\u001b[A\n",
      " 50%|█████     | 25/50 [00:53<00:49,  1.98s/it]\u001b[A\n",
      " 52%|█████▏    | 26/50 [00:54<00:43,  1.82s/it]\u001b[A\n",
      " 54%|█████▍    | 27/50 [00:58<00:57,  2.48s/it]\u001b[A\n",
      " 56%|█████▌    | 28/50 [01:01<00:53,  2.44s/it]\u001b[A\n",
      " 58%|█████▊    | 29/50 [01:02<00:45,  2.18s/it]\u001b[A\n",
      " 60%|██████    | 30/50 [01:04<00:39,  1.96s/it]\u001b[A\n",
      " 62%|██████▏   | 31/50 [01:06<00:37,  1.95s/it]\u001b[A\n",
      " 64%|██████▍   | 32/50 [01:08<00:36,  2.03s/it]\u001b[A\n",
      " 66%|██████▌   | 33/50 [01:10<00:32,  1.92s/it]\u001b[A\n",
      " 68%|██████▊   | 34/50 [01:11<00:30,  1.89s/it]\u001b[A\n",
      " 70%|███████   | 35/50 [01:12<00:24,  1.60s/it]\u001b[A\n",
      " 72%|███████▏  | 36/50 [01:19<00:45,  3.26s/it]\u001b[A\n",
      " 74%|███████▍  | 37/50 [01:21<00:34,  2.66s/it]\u001b[A\n",
      " 76%|███████▌  | 38/50 [01:25<00:36,  3.02s/it]\u001b[A\n",
      " 78%|███████▊  | 39/50 [01:26<00:27,  2.54s/it]\u001b[A\n",
      " 80%|████████  | 40/50 [01:29<00:27,  2.70s/it]\u001b[A\n",
      " 82%|████████▏ | 41/50 [01:33<00:28,  3.13s/it]\u001b[A\n",
      " 84%|████████▍ | 42/50 [01:35<00:22,  2.77s/it]\u001b[A\n",
      " 86%|████████▌ | 43/50 [01:37<00:16,  2.37s/it]\u001b[A\n",
      " 88%|████████▊ | 44/50 [01:37<00:11,  1.90s/it]\u001b[A\n",
      " 90%|█████████ | 45/50 [01:38<00:07,  1.57s/it]\u001b[A\n",
      " 92%|█████████▏| 46/50 [01:40<00:06,  1.70s/it]\u001b[A\n",
      " 94%|█████████▍| 47/50 [01:45<00:07,  2.57s/it]\u001b[A\n",
      " 96%|█████████▌| 48/50 [02:08<00:17,  8.91s/it]\u001b[A\n",
      " 98%|█████████▊| 49/50 [02:09<00:06,  6.34s/it]\u001b[A\n",
      "100%|██████████| 50/50 [02:10<00:00,  2.61s/it]\u001b[A\n"
     ]
    }
   ],
   "source": [
    "dvb['wb_title'] = [' '.join(wb(t)) for t in tqdm(dvb.title)]\n",
    "dvb['wb_body'] = [' '.join(wb(t)) for t in tqdm(dvb.body)]\n",
    "dvb.to_csv('data/clean_wb/dvb.csv', sep='\\t', index=False)"
   ]
  },
  {
   "cell_type": "code",
   "execution_count": null,
   "metadata": {},
   "outputs": [],
   "source": []
  }
 ],
 "metadata": {
  "kernelspec": {
   "display_name": "Python 3",
   "language": "python",
   "name": "python3"
  },
  "language_info": {
   "codemirror_mode": {
    "name": "ipython",
    "version": 3
   },
   "file_extension": ".py",
   "mimetype": "text/x-python",
   "name": "python",
   "nbconvert_exporter": "python",
   "pygments_lexer": "ipython3",
   "version": "3.7.4"
  }
 },
 "nbformat": 4,
 "nbformat_minor": 4
}
