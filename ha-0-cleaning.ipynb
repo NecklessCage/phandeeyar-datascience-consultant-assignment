{
 "cells": [
  {
   "cell_type": "code",
   "execution_count": 13,
   "metadata": {},
   "outputs": [],
   "source": [
    "import pandas as pd"
   ]
  },
  {
   "cell_type": "code",
   "execution_count": 2,
   "metadata": {},
   "outputs": [],
   "source": [
    "data_files = glob('data/*.json')"
   ]
  },
  {
   "cell_type": "code",
   "execution_count": 14,
   "metadata": {},
   "outputs": [],
   "source": [
    "def cleaner(text):\n",
    "    # \\u200* are 0-width space that come from webpages.\n",
    "    # \\xa0 etc. are generally ascii-unicode confused characters\n",
    "    # there can be many more for cleaning\n",
    "    return text.strip(\n",
    "    ).replace(\n",
    "        '\\u200a','').replace(\n",
    "        '\\u200b','').replace(\n",
    "        '\\u200c','').replace(\n",
    "        '\\xa0','').replace(\n",
    "        '“','').replace(\n",
    "        '”','').replace(\n",
    "        '\\n',' ')"
   ]
  },
  {
   "cell_type": "code",
   "execution_count": 11,
   "metadata": {},
   "outputs": [],
   "source": [
    "with open('data/irr_2020-01-21.json') as f:\n",
    "    irr = pd.DataFrame(json.load(f))\n",
    "with open('data/eleven_2020-01-21.json') as f:\n",
    "    ele = pd.DataFrame(json.load(f))\n",
    "with open('data/mizzima_2020-01-21.json') as f:\n",
    "    miz = pd.DataFrame(json.load(f))\n",
    "with open('data/thevoice_2020-01-21.json') as f:\n",
    "    voi = pd.DataFrame(json.load(f))\n",
    "with open('data/dvb_2020-01-21.json') as f:\n",
    "    dvb = pd.DataFrame(json.load(f))\n",
    "irr['title'] = [cleaner(t) for t in irr.title]\n",
    "irr['body'] = [cleaner(t) for t in irr.body]\n",
    "ele['title'] = [cleaner(t) for t in ele.title]\n",
    "ele['body'] = [cleaner(t) for t in ele.body]\n",
    "miz['title'] = [cleaner(t) for t in miz.title]\n",
    "miz['body'] = [cleaner(t) for t in miz.body]\n",
    "voi['title'] = [cleaner(t) for t in voi.title]\n",
    "voi['body'] = [cleaner(t) for t in voi.body]\n",
    "dvb['title'] = [cleaner(t) for t in dvb.title]\n",
    "dvb['body'] = [cleaner(t) for t in dvb.body]\n",
    "irr.to_csv('data/clean/irr.csv', sep='\\t', index=False)\n",
    "ele.to_csv('data/clean/ele.csv', sep='\\t', index=False)\n",
    "miz.to_csv('data/clean/miz.csv', sep='\\t', index=False)\n",
    "voi.to_csv('data/clean/voi.csv', sep='\\t', index=False)\n",
    "dvb.to_csv('data/clean/dvb.csv', sep='\\t', index=False)"
   ]
  }
 ],
 "metadata": {
  "kernelspec": {
   "display_name": "Python 3",
   "language": "python",
   "name": "python3"
  },
  "language_info": {
   "codemirror_mode": {
    "name": "ipython",
    "version": 3
   },
   "file_extension": ".py",
   "mimetype": "text/x-python",
   "name": "python",
   "nbconvert_exporter": "python",
   "pygments_lexer": "ipython3",
   "version": "3.7.4"
  }
 },
 "nbformat": 4,
 "nbformat_minor": 4
}
