{
 "cells": [
  {
   "cell_type": "code",
   "execution_count": 1,
   "metadata": {},
   "outputs": [],
   "source": [
    "from tqdm import tqdm\n",
    "from datetime import date\n",
    "import bs4, requests, json"
   ]
  },
  {
   "cell_type": "code",
   "execution_count": 2,
   "metadata": {},
   "outputs": [
    {
     "name": "stdout",
     "output_type": "stream",
     "text": [
      "# main-menu: 1\n",
      "# main menu links: 31\n"
     ]
    }
   ],
   "source": [
    "url = r'https://news-eleven.com/news'\n",
    "\n",
    "# get original page\n",
    "soup = bs4.BeautifulSoup(requests.get(url).content, 'lxml')\n",
    "\n",
    "# get main menu links\n",
    "main_menu_list = soup.select('#block-system-main-menu')\n",
    "print('# main-menu:', len(main_menu_list))\n",
    "\n",
    "# get all the links from main menu\n",
    "main_menu_links_list = [atag['href'] for atag in main_menu_list[0].ul.find_all('a')]\n",
    "print('# main menu links:', len(main_menu_links_list))"
   ]
  },
  {
   "cell_type": "code",
   "execution_count": 3,
   "metadata": {},
   "outputs": [
    {
     "name": "stderr",
     "output_type": "stream",
     "text": [
      "100%|██████████| 31/31 [00:28<00:00,  1.09it/s]"
     ]
    },
    {
     "name": "stdout",
     "output_type": "stream",
     "text": [
      "# articles: 820\n"
     ]
    },
    {
     "name": "stderr",
     "output_type": "stream",
     "text": [
      "\n"
     ]
    }
   ],
   "source": [
    "# fetch the article links from each main menu links\n",
    "art_url_list = []\n",
    "for mml in tqdm(main_menu_links_list):\n",
    "    current_page = bs4.BeautifulSoup(requests.get(mml).content, 'lxml')\n",
    "    \n",
    "    # each of these pages in main menu contains `front page`, `most read` and `recent news`\n",
    "    # get front-page links\n",
    "    front_page_divs = current_page.select('.frontpage-title')\n",
    "    front_page_links = [t.a['href'] for t in front_page_divs]\n",
    "#     print('There are {} links.'.format(len(front_page_links)))\n",
    "    art_url_list.extend(front_page_links)\n",
    "\n",
    "    # get most read links\n",
    "    most_read_divs = current_page.select('.most-read-title')\n",
    "    most_read_links = [t.a['href'] for t in most_read_divs]\n",
    "#     print('There are {} links.'.format(len(most_read_links)))\n",
    "    art_url_list.extend(most_read_links)\n",
    "\n",
    "    # get most recent links\n",
    "    recent_news_divs = current_page.select('.recent-news-title')\n",
    "    recent_news_links = [t.a['href'] for t in recent_news_divs]\n",
    "#     print('There are {} links.'.format(len(recent_news_links)))\n",
    "    art_url_list.extend(recent_news_links)\n",
    "\n",
    "print('# articles:', len(art_url_list))"
   ]
  },
  {
   "cell_type": "code",
   "execution_count": 6,
   "metadata": {},
   "outputs": [
    {
     "name": "stdout",
     "output_type": "stream",
     "text": [
      "820 320\n"
     ]
    }
   ],
   "source": [
    "art_url_list_unq = list(set(art_url_list))\n",
    "print(len(art_url_list), len(art_url_list_unq))"
   ]
  },
  {
   "cell_type": "code",
   "execution_count": 4,
   "metadata": {},
   "outputs": [
    {
     "ename": "NameError",
     "evalue": "name 'art_url_list_unq' is not defined",
     "output_type": "error",
     "traceback": [
      "\u001b[0;31m---------------------------------------------------------------------------\u001b[0m",
      "\u001b[0;31mNameError\u001b[0m                                 Traceback (most recent call last)",
      "\u001b[0;32m<ipython-input-4-fb0410f210bb>\u001b[0m in \u001b[0;36m<module>\u001b[0;34m\u001b[0m\n\u001b[1;32m      2\u001b[0m \u001b[0;34m\u001b[0m\u001b[0m\n\u001b[1;32m      3\u001b[0m \u001b[0marticle_list\u001b[0m \u001b[0;34m=\u001b[0m \u001b[0;34m[\u001b[0m\u001b[0;34m]\u001b[0m\u001b[0;34m\u001b[0m\u001b[0;34m\u001b[0m\u001b[0m\n\u001b[0;32m----> 4\u001b[0;31m \u001b[0;32mfor\u001b[0m \u001b[0mart_url\u001b[0m \u001b[0;32min\u001b[0m \u001b[0mtqdm\u001b[0m\u001b[0;34m(\u001b[0m\u001b[0mart_url_list_unq\u001b[0m\u001b[0;34m[\u001b[0m\u001b[0;34m:\u001b[0m\u001b[0mN\u001b[0m\u001b[0;34m]\u001b[0m\u001b[0;34m)\u001b[0m\u001b[0;34m:\u001b[0m\u001b[0;34m\u001b[0m\u001b[0;34m\u001b[0m\u001b[0m\n\u001b[0m\u001b[1;32m      5\u001b[0m     \u001b[0marticle\u001b[0m \u001b[0;34m=\u001b[0m \u001b[0mbs4\u001b[0m\u001b[0;34m.\u001b[0m\u001b[0mBeautifulSoup\u001b[0m\u001b[0;34m(\u001b[0m\u001b[0mrequests\u001b[0m\u001b[0;34m.\u001b[0m\u001b[0mget\u001b[0m\u001b[0;34m(\u001b[0m\u001b[0mart_url\u001b[0m\u001b[0;34m)\u001b[0m\u001b[0;34m.\u001b[0m\u001b[0mcontent\u001b[0m\u001b[0;34m,\u001b[0m \u001b[0;34m'lxml'\u001b[0m\u001b[0;34m)\u001b[0m\u001b[0;34m\u001b[0m\u001b[0;34m\u001b[0m\u001b[0m\n\u001b[1;32m      6\u001b[0m     \u001b[0mart_title\u001b[0m \u001b[0;34m=\u001b[0m \u001b[0marticle\u001b[0m\u001b[0;34m.\u001b[0m\u001b[0mselect\u001b[0m\u001b[0;34m(\u001b[0m\u001b[0;34m'.news-detail-title'\u001b[0m\u001b[0;34m)\u001b[0m\u001b[0;34m[\u001b[0m\u001b[0;36m0\u001b[0m\u001b[0;34m]\u001b[0m\u001b[0;34m.\u001b[0m\u001b[0mtext\u001b[0m\u001b[0;34m\u001b[0m\u001b[0;34m\u001b[0m\u001b[0m\n",
      "\u001b[0;31mNameError\u001b[0m: name 'art_url_list_unq' is not defined"
     ]
    }
   ],
   "source": [
    "N = 50 # we are only taking 50\n",
    "\n",
    "article_list = []\n",
    "for art_url in tqdm(art_url_list_unq[:N]):\n",
    "    article = bs4.BeautifulSoup(requests.get(art_url).content, 'lxml')\n",
    "    art_title = article.select('.news-detail-title')[0].text\n",
    "    art_body = article.select('.node-content')\n",
    "    article_list.append({\n",
    "        'url': art_url,\n",
    "        'title': art_title,\n",
    "        'body': '\\n'.join(para.text for para in art_body[0].find_all('p'))\n",
    "    })"
   ]
  },
  {
   "cell_type": "code",
   "execution_count": null,
   "metadata": {},
   "outputs": [],
   "source": [
    "with open('data/eleven_{}.json'.format(date.today()), 'w', encoding='utf-8') as f:\n",
    "    json.dump(article_list, f, ensure_ascii=False, indent=4)"
   ]
  },
  {
   "cell_type": "code",
   "execution_count": null,
   "metadata": {},
   "outputs": [],
   "source": []
  }
 ],
 "metadata": {
  "kernelspec": {
   "display_name": "Python 3",
   "language": "python",
   "name": "python3"
  },
  "language_info": {
   "codemirror_mode": {
    "name": "ipython",
    "version": 3
   },
   "file_extension": ".py",
   "mimetype": "text/x-python",
   "name": "python",
   "nbconvert_exporter": "python",
   "pygments_lexer": "ipython3",
   "version": "3.7.4"
  }
 },
 "nbformat": 4,
 "nbformat_minor": 4
}
