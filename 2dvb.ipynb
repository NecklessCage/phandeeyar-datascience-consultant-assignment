{
 "cells": [
  {
   "cell_type": "code",
   "execution_count": 1,
   "metadata": {},
   "outputs": [],
   "source": [
    "from tqdm import tqdm\n",
    "from datetime import date\n",
    "import bs4, requests, json"
   ]
  },
  {
   "cell_type": "code",
   "execution_count": 2,
   "metadata": {},
   "outputs": [],
   "source": [
    "home_url = r'http://burmese.dvb.no/archives/category/news'\n",
    "\n",
    "# get original page\n",
    "soup = bs4.BeautifulSoup(requests.get(home_url).content, 'lxml')\n",
    "\n",
    "# get trending links\n",
    "main_menu_list = soup.select('#header-nav')\n",
    "main_menu_url_list = [atag['href'] for atag in main_menu_list[0].find_all('a')]"
   ]
  },
  {
   "cell_type": "code",
   "execution_count": 3,
   "metadata": {},
   "outputs": [
    {
     "name": "stderr",
     "output_type": "stream",
     "text": [
      "100%|██████████| 29/29 [00:18<00:00,  1.58it/s]\n"
     ]
    }
   ],
   "source": [
    "art_url_list = []\n",
    "article_list = []\n",
    "for link in tqdm(main_menu_url_list):\n",
    "    current_page = bs4.BeautifulSoup(requests.get(link).content, 'lxml')\n",
    "    articles = current_page.select('.entry-title')\n",
    "    art_url_list.extend([article_header.a['href'] for article_header in articles])"
   ]
  },
  {
   "cell_type": "code",
   "execution_count": 4,
   "metadata": {},
   "outputs": [
    {
     "name": "stdout",
     "output_type": "stream",
     "text": [
      "426 244\n"
     ]
    }
   ],
   "source": [
    "art_url_list_unq = list(set(art_url_list))\n",
    "print(len(art_url_list), len(art_url_list_unq))"
   ]
  },
  {
   "cell_type": "code",
   "execution_count": 5,
   "metadata": {},
   "outputs": [
    {
     "name": "stderr",
     "output_type": "stream",
     "text": [
      "100%|██████████| 50/50 [00:30<00:00,  1.67it/s]\n"
     ]
    }
   ],
   "source": [
    "N = 50 # we are only taking 50\n",
    "\n",
    "article_list = []\n",
    "for art_url in tqdm(art_url_list_unq[:N]):\n",
    "    article = bs4.BeautifulSoup(requests.get(art_url).content, 'lxml')\n",
    "    art_title = article.select('.entry-title')[0].text\n",
    "    art_body = article.select('.text')\n",
    "    article_list.append({\n",
    "        'url': art_url,\n",
    "        'title': art_title,\n",
    "        'body': '\\n'.join(para.text for para in art_body[0].find_all('p'))\n",
    "    })"
   ]
  },
  {
   "cell_type": "code",
   "execution_count": 6,
   "metadata": {},
   "outputs": [],
   "source": [
    "with open('data/dvb_{}.json'.format(date.today()), 'w', encoding='utf-8') as f:\n",
    "    json.dump(article_list, f, ensure_ascii=False, indent=4)"
   ]
  },
  {
   "cell_type": "code",
   "execution_count": null,
   "metadata": {},
   "outputs": [],
   "source": []
  }
 ],
 "metadata": {
  "kernelspec": {
   "display_name": "Python 3",
   "language": "python",
   "name": "python3"
  },
  "language_info": {
   "codemirror_mode": {
    "name": "ipython",
    "version": 3
   },
   "file_extension": ".py",
   "mimetype": "text/x-python",
   "name": "python",
   "nbconvert_exporter": "python",
   "pygments_lexer": "ipython3",
   "version": "3.7.4"
  }
 },
 "nbformat": 4,
 "nbformat_minor": 4
}
