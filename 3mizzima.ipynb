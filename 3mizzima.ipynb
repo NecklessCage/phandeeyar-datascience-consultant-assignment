{
 "cells": [
  {
   "cell_type": "code",
   "execution_count": 1,
   "metadata": {},
   "outputs": [],
   "source": [
    "from tqdm import tqdm\n",
    "from datetime import date\n",
    "import bs4, requests, json"
   ]
  },
  {
   "cell_type": "code",
   "execution_count": 8,
   "metadata": {},
   "outputs": [
    {
     "name": "stdout",
     "output_type": "stream",
     "text": [
      "# main-menu: 1\n",
      "# main menu links: 57\n"
     ]
    }
   ],
   "source": [
    "home_url = r'http://www.mizzimaburmese.com/news'\n",
    "base_url = 'http://www.mizzimaburmese.com'\n",
    "\n",
    "# get original page\n",
    "soup = bs4.BeautifulSoup(requests.get(home_url).content, 'lxml')\n",
    "\n",
    "# get main menu links\n",
    "main_menu_list = soup.select('#block-system-main-menu')\n",
    "print('# main-menu:', len(main_menu_list))\n",
    "\n",
    "# get all the links from main menu\n",
    "main_menu_links_list = [base_url+atag['href'] for atag in main_menu_list[0].ul.find_all('a')]\n",
    "print('# main menu links:', len(main_menu_links_list))"
   ]
  },
  {
   "cell_type": "code",
   "execution_count": 13,
   "metadata": {},
   "outputs": [
    {
     "name": "stderr",
     "output_type": "stream",
     "text": [
      "100%|██████████| 57/57 [01:05<00:00,  1.14s/it]\n"
     ]
    }
   ],
   "source": [
    "art_url_list = []\n",
    "article_list = []\n",
    "for link in tqdm(main_menu_links_list):\n",
    "    current_page = bs4.BeautifulSoup(requests.get(link).content, 'lxml')\n",
    "    articles = current_page.select('.news-category-small-image-title')\n",
    "    art_url_list.extend([base_url+article_header.a['href'] for article_header in articles])"
   ]
  },
  {
   "cell_type": "code",
   "execution_count": 15,
   "metadata": {},
   "outputs": [
    {
     "name": "stdout",
     "output_type": "stream",
     "text": [
      "475 375\n"
     ]
    }
   ],
   "source": [
    "art_url_list_unq = list(set(art_url_list))\n",
    "print(len(art_url_list), len(art_url_list_unq))"
   ]
  },
  {
   "cell_type": "code",
   "execution_count": 27,
   "metadata": {},
   "outputs": [
    {
     "name": "stderr",
     "output_type": "stream",
     "text": [
      "100%|██████████| 50/50 [01:11<00:00,  1.44s/it]\n"
     ]
    }
   ],
   "source": [
    "N = 50 # we are only taking 50\n",
    "\n",
    "article_list = []\n",
    "for art_url in tqdm(art_url_list_unq[:N]):\n",
    "    article = bs4.BeautifulSoup(requests.get(art_url).content, 'lxml')\n",
    "    art_title = article.select('.news-details-title')[0].text\n",
    "    art_body = article.article\n",
    "    article_list.append({\n",
    "        'url': art_url,\n",
    "        'title': art_title,\n",
    "        'body': '\\n'.join(para.text for para in article.article.find_all('p'))\n",
    "    })"
   ]
  },
  {
   "cell_type": "code",
   "execution_count": 29,
   "metadata": {},
   "outputs": [],
   "source": [
    "with open('data/mizzima_{}.json'.format(date.today()), 'w', encoding='utf-8') as f:\n",
    "    json.dump(article_list, f, ensure_ascii=False, indent=4)"
   ]
  },
  {
   "cell_type": "code",
   "execution_count": null,
   "metadata": {},
   "outputs": [],
   "source": []
  }
 ],
 "metadata": {
  "kernelspec": {
   "display_name": "Python 3",
   "language": "python",
   "name": "python3"
  },
  "language_info": {
   "codemirror_mode": {
    "name": "ipython",
    "version": 3
   },
   "file_extension": ".py",
   "mimetype": "text/x-python",
   "name": "python",
   "nbconvert_exporter": "python",
   "pygments_lexer": "ipython3",
   "version": "3.7.4"
  }
 },
 "nbformat": 4,
 "nbformat_minor": 4
}
