{
 "cells": [
  {
   "cell_type": "code",
   "execution_count": 1,
   "metadata": {},
   "outputs": [],
   "source": [
    "from tqdm import tqdm\n",
    "from datetime import date\n",
    "import bs4, requests, json"
   ]
  },
  {
   "cell_type": "code",
   "execution_count": 13,
   "metadata": {},
   "outputs": [
    {
     "name": "stdout",
     "output_type": "stream",
     "text": [
      "http://thevoicemyanmar.com 50\n"
     ]
    }
   ],
   "source": [
    "home_url = r'http://thevoicemyanmar.com/news'\n",
    "\n",
    "# get original page\n",
    "soup = bs4.BeautifulSoup(requests.get(home_url).content, 'lxml')\n",
    "\n",
    "# get trending links\n",
    "main_menu_list = soup.select('.nav.navbar-nav')\n",
    "main_menu_url_list = []\n",
    "for atag in main_menu_list[0].find_all('a'):\n",
    "    try:\n",
    "        main_menu_url_list.append(atag['href'])\n",
    "    except:\n",
    "        pass\n",
    "print(main_menu_url_list[0], len(main_menu_url_list))"
   ]
  },
  {
   "cell_type": "code",
   "execution_count": 55,
   "metadata": {},
   "outputs": [
    {
     "name": "stderr",
     "output_type": "stream",
     "text": [
      "100%|██████████| 50/50 [00:25<00:00,  1.96it/s]\n"
     ]
    }
   ],
   "source": [
    "art_url_list = []\n",
    "article_list = []\n",
    "for link in tqdm(main_menu_url_list):\n",
    "    current_page = bs4.BeautifulSoup(requests.get(link).content, 'lxml')\n",
    "    articles = current_page.select('article')\n",
    "    for article_header in articles:\n",
    "        try:\n",
    "            art_url_list.append(article_header.select('.caption')[0].a['href'])\n",
    "        except:\n",
    "            pass"
   ]
  },
  {
   "cell_type": "code",
   "execution_count": 56,
   "metadata": {},
   "outputs": [
    {
     "name": "stdout",
     "output_type": "stream",
     "text": [
      "762 666\n"
     ]
    }
   ],
   "source": [
    "# Take Unique\n",
    "art_url_list_unq = list(set(art_url_list))\n",
    "print(len(art_url_list), len(art_url_list_unq))"
   ]
  },
  {
   "cell_type": "code",
   "execution_count": 69,
   "metadata": {},
   "outputs": [
    {
     "name": "stderr",
     "output_type": "stream",
     "text": [
      "100%|██████████| 50/50 [00:24<00:00,  2.06it/s]\n"
     ]
    }
   ],
   "source": [
    "N = 50 # we are only taking 50\n",
    "\n",
    "article_list = []\n",
    "for art_url in tqdm(art_url_list_unq[:N]):\n",
    "    article = bs4.BeautifulSoup(requests.get(art_url).content, 'lxml')\n",
    "    art_title = article.select('.caption.title_font')[0].text\n",
    "    art_body = article.select('.description.zawgyi')\n",
    "    article_list.append({\n",
    "        'url': art_url,\n",
    "        'title': art_title,\n",
    "        'body': '\\n'.join(para.text for para in art_body[0].find_all('div'))\n",
    "    })"
   ]
  },
  {
   "cell_type": "code",
   "execution_count": 71,
   "metadata": {},
   "outputs": [],
   "source": [
    "with open('data/thevoice_{}.json'.format(date.today()), 'w', encoding='utf-8') as f:\n",
    "    json.dump(article_list, f, ensure_ascii=False, indent=4)"
   ]
  },
  {
   "cell_type": "code",
   "execution_count": null,
   "metadata": {},
   "outputs": [],
   "source": []
  }
 ],
 "metadata": {
  "kernelspec": {
   "display_name": "Python 3",
   "language": "python",
   "name": "python3"
  },
  "language_info": {
   "codemirror_mode": {
    "name": "ipython",
    "version": 3
   },
   "file_extension": ".py",
   "mimetype": "text/x-python",
   "name": "python",
   "nbconvert_exporter": "python",
   "pygments_lexer": "ipython3",
   "version": "3.7.4"
  }
 },
 "nbformat": 4,
 "nbformat_minor": 4
}
